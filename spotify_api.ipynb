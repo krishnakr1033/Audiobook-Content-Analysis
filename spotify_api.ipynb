{
  "cells": [
    {
      "cell_type": "markdown",
      "metadata": {
        "id": "view-in-github",
        "colab_type": "text"
      },
      "source": [
        "<a href=\"https://colab.research.google.com/github/NandanKumarSingh/Audiobook-Analysis/blob/main/spotify_api.ipynb\" target=\"_parent\"><img src=\"https://colab.research.google.com/assets/colab-badge.svg\" alt=\"Open In Colab\"/></a>"
      ]
    },
    {
      "cell_type": "code",
      "execution_count": null,
      "metadata": {
        "id": "A1mnuN5mkBkb"
      },
      "outputs": [],
      "source": [
        "CLIENT_ID=\"a1fb6f2f7bf440be9c375e6080bcf45b\"\n",
        "CLIENT_SECRET=\"c1775065c0fe438a992e8c20e4ebdafe\""
      ]
    },
    {
      "cell_type": "code",
      "execution_count": null,
      "metadata": {
        "colab": {
          "base_uri": "https://localhost:8080/"
        },
        "id": "FfVPBLCHkhK6",
        "outputId": "00a3a65b-88b8-4990-ac00-28a0d356a04d"
      },
      "outputs": [
        {
          "output_type": "stream",
          "name": "stdout",
          "text": [
            "Requirement already satisfied: requests in /usr/local/lib/python3.10/dist-packages (2.32.3)\n",
            "Requirement already satisfied: charset-normalizer<4,>=2 in /usr/local/lib/python3.10/dist-packages (from requests) (3.3.2)\n",
            "Requirement already satisfied: idna<4,>=2.5 in /usr/local/lib/python3.10/dist-packages (from requests) (3.8)\n",
            "Requirement already satisfied: urllib3<3,>=1.21.1 in /usr/local/lib/python3.10/dist-packages (from requests) (2.0.7)\n",
            "Requirement already satisfied: certifi>=2017.4.17 in /usr/local/lib/python3.10/dist-packages (from requests) (2024.7.4)\n"
          ]
        }
      ],
      "source": [
        "!pip install requests"
      ]
    },
    {
      "cell_type": "code",
      "execution_count": null,
      "metadata": {
        "id": "Fzb8wsVGlCZv"
      },
      "outputs": [],
      "source": [
        "import base64"
      ]
    },
    {
      "cell_type": "code",
      "execution_count": null,
      "metadata": {
        "id": "IEM55ommnIny"
      },
      "outputs": [],
      "source": [
        "from requests import post"
      ]
    },
    {
      "cell_type": "code",
      "execution_count": null,
      "metadata": {
        "id": "VcnlJE-cnjei"
      },
      "outputs": [],
      "source": [
        "import json"
      ]
    },
    {
      "cell_type": "code",
      "execution_count": null,
      "metadata": {
        "id": "hGEkvP4Ckkr8"
      },
      "outputs": [],
      "source": [
        "def get_token():\n",
        "  auth_string=CLIENT_ID+\":\"+CLIENT_SECRET\n",
        "  auth_bytes=auth_string.encode(\"utf-8\")\n",
        "  auth_base64=str(base64.b64encode(auth_bytes),\"utf-8\")\n",
        "  url= \"https://accounts.spotify.com/api/token\"\n",
        "  headers={\n",
        "      \"Authorization\": \"Basic \"+ auth_base64,\n",
        "      \"Content-Type\":\"application/x-www-form-urlencoded\"\n",
        "  }\n",
        "  data = {\"grant_type\":\"client_credentials\"}\n",
        "  result=post(url,headers=headers,data=data)\n",
        "  json_result=json.loads(result.content)\n",
        "  token=json_result[\"access_token\"]\n",
        "  return token"
      ]
    },
    {
      "cell_type": "code",
      "execution_count": null,
      "metadata": {
        "id": "5qfvni_Rn639"
      },
      "outputs": [],
      "source": [
        "token=get_token()"
      ]
    },
    {
      "cell_type": "code",
      "execution_count": null,
      "metadata": {
        "colab": {
          "base_uri": "https://localhost:8080/"
        },
        "id": "FBb9dhhHoD6H",
        "outputId": "109f2d36-f6f0-48d2-dcf6-df855d707c85"
      },
      "outputs": [
        {
          "output_type": "stream",
          "name": "stdout",
          "text": [
            "BQAlHtCLCNTDX_Lur6nJDmt362ra5Jskvsw1jCvQar_rwr1YFnyaxaVTO0PyGBtUdhOG-UfouMWiLlH8bOUbyB96ZvjiKlhMcVGb1oMVSKVjhDTDa4Y\n"
          ]
        }
      ],
      "source": [
        "print(token)"
      ]
    },
    {
      "cell_type": "code",
      "execution_count": null,
      "metadata": {
        "id": "kN61Mp0tqBSg"
      },
      "outputs": [],
      "source": [
        "def get_auth_header():\n",
        "  return {\"Authorization\":\"Bearer \"+token}"
      ]
    },
    {
      "cell_type": "code",
      "execution_count": null,
      "metadata": {
        "id": "gT-P8K_PBAuj"
      },
      "outputs": [],
      "source": [
        "from requests import get"
      ]
    },
    {
      "cell_type": "code",
      "execution_count": null,
      "metadata": {
        "id": "xN2pDUYd8uem"
      },
      "outputs": [],
      "source": [
        "def search_for_artist(token,artist_name):\n",
        "  url=\"https://api.spotify.com/v1/search\"\n",
        "  header=get_auth_header()\n",
        "  query=f\"?q={artist_name}&type=artist&limit=1\"\n",
        "  query_url=url+query\n",
        "  result=get(query_url,headers=header)\n",
        "  json_result=json.loads(result.content)[\"artists\"][\"items\"]\n",
        "  if len(json_result)==0:\n",
        "    print(\"No artist found\")\n",
        "    return None\n",
        "  return json_result[0]"
      ]
    },
    {
      "cell_type": "code",
      "execution_count": null,
      "metadata": {
        "id": "vGVfy-ZGBVOV"
      },
      "outputs": [],
      "source": [
        "result=search_for_artist(token,\"Taylor\")"
      ]
    },
    {
      "cell_type": "code",
      "execution_count": null,
      "metadata": {
        "colab": {
          "base_uri": "https://localhost:8080/",
          "height": 35
        },
        "id": "tQw-ztE4BlVQ",
        "outputId": "57f3ed9a-cb1c-44f1-9d8d-e760d3a7a4f1"
      },
      "outputs": [
        {
          "output_type": "execute_result",
          "data": {
            "text/plain": [
              "'Taylor Swift'"
            ],
            "application/vnd.google.colaboratory.intrinsic+json": {
              "type": "string"
            }
          },
          "metadata": {},
          "execution_count": 20
        }
      ],
      "source": [
        "result[\"name\"]"
      ]
    },
    {
      "cell_type": "code",
      "execution_count": null,
      "metadata": {
        "id": "e5tznoPbEAtL"
      },
      "outputs": [],
      "source": [
        "id=result[\"id\"]"
      ]
    },
    {
      "cell_type": "code",
      "execution_count": null,
      "metadata": {
        "colab": {
          "base_uri": "https://localhost:8080/"
        },
        "id": "MFk0JkXBEH5L",
        "outputId": "c9a6219b-1891-452b-f721-a4af506f027d"
      },
      "outputs": [
        {
          "output_type": "stream",
          "name": "stdout",
          "text": [
            "06HL4z0CvFAxyc27GXpf02\n"
          ]
        }
      ],
      "source": [
        "print(id)"
      ]
    },
    {
      "cell_type": "code",
      "execution_count": null,
      "metadata": {
        "id": "nZa_3OIMCsBq"
      },
      "outputs": [],
      "source": [
        "def songs_by_artist(token,artist_id):\n",
        "  url=f\"https://api.spotify.com/v1/artists/{artist_id}/top-tracks\"\n",
        "  headers=get_auth_header()\n",
        "  result=get(url,headers=headers)\n",
        "  json_result=json.loads(result.content)[\"tracks\"]\n",
        "  return json_result"
      ]
    },
    {
      "cell_type": "code",
      "execution_count": null,
      "metadata": {
        "id": "GoaG3hi1D9Sh"
      },
      "outputs": [],
      "source": [
        "songs=songs_by_artist(token,id)"
      ]
    },
    {
      "cell_type": "code",
      "execution_count": null,
      "metadata": {
        "colab": {
          "base_uri": "https://localhost:8080/"
        },
        "id": "87e9aDs5EKda",
        "outputId": "73a7cd48-8cd4-489b-e6d1-1b8ee690706c"
      },
      "outputs": [
        {
          "output_type": "stream",
          "name": "stdout",
          "text": [
            "[{'album': {'album_type': 'album', 'artists': [{'external_urls': {'spotify': 'https://open.spotify.com/artist/06HL4z0CvFAxyc27GXpf02'}, 'href': 'https://api.spotify.com/v1/artists/06HL4z0CvFAxyc27GXpf02', 'id': '06HL4z0CvFAxyc27GXpf02', 'name': 'Taylor Swift', 'type': 'artist', 'uri': 'spotify:artist:06HL4z0CvFAxyc27GXpf02'}], 'external_urls': {'spotify': 'https://open.spotify.com/album/1NAmidJlEaVgA3MpcPFYGq'}, 'href': 'https://api.spotify.com/v1/albums/1NAmidJlEaVgA3MpcPFYGq', 'id': '1NAmidJlEaVgA3MpcPFYGq', 'images': [{'url': 'https://i.scdn.co/image/ab67616d0000b273e787cffec20aa2a396a61647', 'width': 640, 'height': 640}, {'url': 'https://i.scdn.co/image/ab67616d00001e02e787cffec20aa2a396a61647', 'width': 300, 'height': 300}, {'url': 'https://i.scdn.co/image/ab67616d00004851e787cffec20aa2a396a61647', 'width': 64, 'height': 64}], 'is_playable': True, 'name': 'Lover', 'release_date': '2019-08-23', 'release_date_precision': 'day', 'total_tracks': 18, 'type': 'album', 'uri': 'spotify:album:1NAmidJlEaVgA3MpcPFYGq'}, 'artists': [{'external_urls': {'spotify': 'https://open.spotify.com/artist/06HL4z0CvFAxyc27GXpf02'}, 'href': 'https://api.spotify.com/v1/artists/06HL4z0CvFAxyc27GXpf02', 'id': '06HL4z0CvFAxyc27GXpf02', 'name': 'Taylor Swift', 'type': 'artist', 'uri': 'spotify:artist:06HL4z0CvFAxyc27GXpf02'}], 'disc_number': 1, 'duration_ms': 178426, 'explicit': False, 'external_ids': {'isrc': 'USUG11901472'}, 'external_urls': {'spotify': 'https://open.spotify.com/track/1BxfuPKGuaTgP7aM0Bbdwr'}, 'href': 'https://api.spotify.com/v1/tracks/1BxfuPKGuaTgP7aM0Bbdwr', 'id': '1BxfuPKGuaTgP7aM0Bbdwr', 'is_local': False, 'is_playable': True, 'name': 'Cruel Summer', 'popularity': 92, 'preview_url': None, 'track_number': 2, 'type': 'track', 'uri': 'spotify:track:1BxfuPKGuaTgP7aM0Bbdwr'}, {'album': {'album_type': 'album', 'artists': [{'external_urls': {'spotify': 'https://open.spotify.com/artist/06HL4z0CvFAxyc27GXpf02'}, 'href': 'https://api.spotify.com/v1/artists/06HL4z0CvFAxyc27GXpf02', 'id': '06HL4z0CvFAxyc27GXpf02', 'name': 'Taylor Swift', 'type': 'artist', 'uri': 'spotify:artist:06HL4z0CvFAxyc27GXpf02'}], 'external_urls': {'spotify': 'https://open.spotify.com/album/1Mo4aZ8pdj6L1jx8zSwJnt'}, 'href': 'https://api.spotify.com/v1/albums/1Mo4aZ8pdj6L1jx8zSwJnt', 'id': '1Mo4aZ8pdj6L1jx8zSwJnt', 'images': [{'url': 'https://i.scdn.co/image/ab67616d0000b2735076e4160d018e378f488c33', 'width': 640, 'height': 640}, {'url': 'https://i.scdn.co/image/ab67616d00001e025076e4160d018e378f488c33', 'width': 300, 'height': 300}, {'url': 'https://i.scdn.co/image/ab67616d000048515076e4160d018e378f488c33', 'width': 64, 'height': 64}], 'is_playable': True, 'name': 'THE TORTURED POETS DEPARTMENT', 'release_date': '2024-04-18', 'release_date_precision': 'day', 'total_tracks': 16, 'type': 'album', 'uri': 'spotify:album:1Mo4aZ8pdj6L1jx8zSwJnt'}, 'artists': [{'external_urls': {'spotify': 'https://open.spotify.com/artist/06HL4z0CvFAxyc27GXpf02'}, 'href': 'https://api.spotify.com/v1/artists/06HL4z0CvFAxyc27GXpf02', 'id': '06HL4z0CvFAxyc27GXpf02', 'name': 'Taylor Swift', 'type': 'artist', 'uri': 'spotify:artist:06HL4z0CvFAxyc27GXpf02'}, {'external_urls': {'spotify': 'https://open.spotify.com/artist/246dkjvS1zLTtiykXe5h60'}, 'href': 'https://api.spotify.com/v1/artists/246dkjvS1zLTtiykXe5h60', 'id': '246dkjvS1zLTtiykXe5h60', 'name': 'Post Malone', 'type': 'artist', 'uri': 'spotify:artist:246dkjvS1zLTtiykXe5h60'}], 'disc_number': 1, 'duration_ms': 228965, 'explicit': False, 'external_ids': {'isrc': 'USUG12401028'}, 'external_urls': {'spotify': 'https://open.spotify.com/track/2OzhQlSqBEmt7hmkYxfT6m'}, 'href': 'https://api.spotify.com/v1/tracks/2OzhQlSqBEmt7hmkYxfT6m', 'id': '2OzhQlSqBEmt7hmkYxfT6m', 'is_local': False, 'is_playable': True, 'name': 'Fortnight (feat. Post Malone)', 'popularity': 89, 'preview_url': None, 'track_number': 1, 'type': 'track', 'uri': 'spotify:track:2OzhQlSqBEmt7hmkYxfT6m'}, {'album': {'album_type': 'album', 'artists': [{'external_urls': {'spotify': 'https://open.spotify.com/artist/06HL4z0CvFAxyc27GXpf02'}, 'href': 'https://api.spotify.com/v1/artists/06HL4z0CvFAxyc27GXpf02', 'id': '06HL4z0CvFAxyc27GXpf02', 'name': 'Taylor Swift', 'type': 'artist', 'uri': 'spotify:artist:06HL4z0CvFAxyc27GXpf02'}], 'external_urls': {'spotify': 'https://open.spotify.com/album/1Mo4aZ8pdj6L1jx8zSwJnt'}, 'href': 'https://api.spotify.com/v1/albums/1Mo4aZ8pdj6L1jx8zSwJnt', 'id': '1Mo4aZ8pdj6L1jx8zSwJnt', 'images': [{'url': 'https://i.scdn.co/image/ab67616d0000b2735076e4160d018e378f488c33', 'width': 640, 'height': 640}, {'url': 'https://i.scdn.co/image/ab67616d00001e025076e4160d018e378f488c33', 'width': 300, 'height': 300}, {'url': 'https://i.scdn.co/image/ab67616d000048515076e4160d018e378f488c33', 'width': 64, 'height': 64}], 'is_playable': True, 'name': 'THE TORTURED POETS DEPARTMENT', 'release_date': '2024-04-18', 'release_date_precision': 'day', 'total_tracks': 16, 'type': 'album', 'uri': 'spotify:album:1Mo4aZ8pdj6L1jx8zSwJnt'}, 'artists': [{'external_urls': {'spotify': 'https://open.spotify.com/artist/06HL4z0CvFAxyc27GXpf02'}, 'href': 'https://api.spotify.com/v1/artists/06HL4z0CvFAxyc27GXpf02', 'id': '06HL4z0CvFAxyc27GXpf02', 'name': 'Taylor Swift', 'type': 'artist', 'uri': 'spotify:artist:06HL4z0CvFAxyc27GXpf02'}], 'disc_number': 1, 'duration_ms': 218004, 'explicit': True, 'external_ids': {'isrc': 'USUG12401040'}, 'external_urls': {'spotify': 'https://open.spotify.com/track/4q5YezDOIPcoLr8R81x9qy'}, 'href': 'https://api.spotify.com/v1/tracks/4q5YezDOIPcoLr8R81x9qy', 'id': '4q5YezDOIPcoLr8R81x9qy', 'is_local': False, 'is_playable': True, 'name': 'I Can Do It With a Broken Heart', 'popularity': 87, 'preview_url': None, 'track_number': 13, 'type': 'track', 'uri': 'spotify:track:4q5YezDOIPcoLr8R81x9qy'}, {'album': {'album_type': 'album', 'artists': [{'external_urls': {'spotify': 'https://open.spotify.com/artist/06HL4z0CvFAxyc27GXpf02'}, 'href': 'https://api.spotify.com/v1/artists/06HL4z0CvFAxyc27GXpf02', 'id': '06HL4z0CvFAxyc27GXpf02', 'name': 'Taylor Swift', 'type': 'artist', 'uri': 'spotify:artist:06HL4z0CvFAxyc27GXpf02'}], 'external_urls': {'spotify': 'https://open.spotify.com/album/2fenSS68JI1h4Fo296JfGr'}, 'href': 'https://api.spotify.com/v1/albums/2fenSS68JI1h4Fo296JfGr', 'id': '2fenSS68JI1h4Fo296JfGr', 'images': [{'url': 'https://i.scdn.co/image/ab67616d0000b27395f754318336a07e85ec59bc', 'width': 640, 'height': 640}, {'url': 'https://i.scdn.co/image/ab67616d00001e0295f754318336a07e85ec59bc', 'width': 300, 'height': 300}, {'url': 'https://i.scdn.co/image/ab67616d0000485195f754318336a07e85ec59bc', 'width': 64, 'height': 64}], 'is_playable': True, 'name': 'folklore', 'release_date': '2020-07-24', 'release_date_precision': 'day', 'total_tracks': 16, 'type': 'album', 'uri': 'spotify:album:2fenSS68JI1h4Fo296JfGr'}, 'artists': [{'external_urls': {'spotify': 'https://open.spotify.com/artist/06HL4z0CvFAxyc27GXpf02'}, 'href': 'https://api.spotify.com/v1/artists/06HL4z0CvFAxyc27GXpf02', 'id': '06HL4z0CvFAxyc27GXpf02', 'name': 'Taylor Swift', 'type': 'artist', 'uri': 'spotify:artist:06HL4z0CvFAxyc27GXpf02'}], 'disc_number': 1, 'duration_ms': 261922, 'explicit': False, 'external_ids': {'isrc': 'USUG12002842'}, 'external_urls': {'spotify': 'https://open.spotify.com/track/3hUxzQpSfdDqwM3ZTFQY0K'}, 'href': 'https://api.spotify.com/v1/tracks/3hUxzQpSfdDqwM3ZTFQY0K', 'id': '3hUxzQpSfdDqwM3ZTFQY0K', 'is_local': False, 'is_playable': True, 'name': 'august', 'popularity': 87, 'preview_url': None, 'track_number': 8, 'type': 'track', 'uri': 'spotify:track:3hUxzQpSfdDqwM3ZTFQY0K'}, {'album': {'album_type': 'album', 'artists': [{'external_urls': {'spotify': 'https://open.spotify.com/artist/06HL4z0CvFAxyc27GXpf02'}, 'href': 'https://api.spotify.com/v1/artists/06HL4z0CvFAxyc27GXpf02', 'id': '06HL4z0CvFAxyc27GXpf02', 'name': 'Taylor Swift', 'type': 'artist', 'uri': 'spotify:artist:06HL4z0CvFAxyc27GXpf02'}], 'external_urls': {'spotify': 'https://open.spotify.com/album/1NAmidJlEaVgA3MpcPFYGq'}, 'href': 'https://api.spotify.com/v1/albums/1NAmidJlEaVgA3MpcPFYGq', 'id': '1NAmidJlEaVgA3MpcPFYGq', 'images': [{'url': 'https://i.scdn.co/image/ab67616d0000b273e787cffec20aa2a396a61647', 'width': 640, 'height': 640}, {'url': 'https://i.scdn.co/image/ab67616d00001e02e787cffec20aa2a396a61647', 'width': 300, 'height': 300}, {'url': 'https://i.scdn.co/image/ab67616d00004851e787cffec20aa2a396a61647', 'width': 64, 'height': 64}], 'is_playable': True, 'name': 'Lover', 'release_date': '2019-08-23', 'release_date_precision': 'day', 'total_tracks': 18, 'type': 'album', 'uri': 'spotify:album:1NAmidJlEaVgA3MpcPFYGq'}, 'artists': [{'external_urls': {'spotify': 'https://open.spotify.com/artist/06HL4z0CvFAxyc27GXpf02'}, 'href': 'https://api.spotify.com/v1/artists/06HL4z0CvFAxyc27GXpf02', 'id': '06HL4z0CvFAxyc27GXpf02', 'name': 'Taylor Swift', 'type': 'artist', 'uri': 'spotify:artist:06HL4z0CvFAxyc27GXpf02'}], 'disc_number': 1, 'duration_ms': 221306, 'explicit': False, 'external_ids': {'isrc': 'USUG11901473'}, 'external_urls': {'spotify': 'https://open.spotify.com/track/1dGr1c8CrMLDpV6mPbImSI'}, 'href': 'https://api.spotify.com/v1/tracks/1dGr1c8CrMLDpV6mPbImSI', 'id': '1dGr1c8CrMLDpV6mPbImSI', 'is_local': False, 'is_playable': True, 'name': 'Lover', 'popularity': 86, 'preview_url': None, 'track_number': 3, 'type': 'track', 'uri': 'spotify:track:1dGr1c8CrMLDpV6mPbImSI'}, {'album': {'album_type': 'album', 'artists': [{'external_urls': {'spotify': 'https://open.spotify.com/artist/06HL4z0CvFAxyc27GXpf02'}, 'href': 'https://api.spotify.com/v1/artists/06HL4z0CvFAxyc27GXpf02', 'id': '06HL4z0CvFAxyc27GXpf02', 'name': 'Taylor Swift', 'type': 'artist', 'uri': 'spotify:artist:06HL4z0CvFAxyc27GXpf02'}], 'external_urls': {'spotify': 'https://open.spotify.com/album/2fenSS68JI1h4Fo296JfGr'}, 'href': 'https://api.spotify.com/v1/albums/2fenSS68JI1h4Fo296JfGr', 'id': '2fenSS68JI1h4Fo296JfGr', 'images': [{'url': 'https://i.scdn.co/image/ab67616d0000b27395f754318336a07e85ec59bc', 'width': 640, 'height': 640}, {'url': 'https://i.scdn.co/image/ab67616d00001e0295f754318336a07e85ec59bc', 'width': 300, 'height': 300}, {'url': 'https://i.scdn.co/image/ab67616d0000485195f754318336a07e85ec59bc', 'width': 64, 'height': 64}], 'is_playable': True, 'name': 'folklore', 'release_date': '2020-07-24', 'release_date_precision': 'day', 'total_tracks': 16, 'type': 'album', 'uri': 'spotify:album:2fenSS68JI1h4Fo296JfGr'}, 'artists': [{'external_urls': {'spotify': 'https://open.spotify.com/artist/06HL4z0CvFAxyc27GXpf02'}, 'href': 'https://api.spotify.com/v1/artists/06HL4z0CvFAxyc27GXpf02', 'id': '06HL4z0CvFAxyc27GXpf02', 'name': 'Taylor Swift', 'type': 'artist', 'uri': 'spotify:artist:06HL4z0CvFAxyc27GXpf02'}], 'disc_number': 1, 'duration_ms': 239560, 'explicit': False, 'external_ids': {'isrc': 'USUG12002836'}, 'external_urls': {'spotify': 'https://open.spotify.com/track/4R2kfaDFhslZEMJqAFNpdd'}, 'href': 'https://api.spotify.com/v1/tracks/4R2kfaDFhslZEMJqAFNpdd', 'id': '4R2kfaDFhslZEMJqAFNpdd', 'is_local': False, 'is_playable': True, 'name': 'cardigan', 'popularity': 85, 'preview_url': None, 'track_number': 2, 'type': 'track', 'uri': 'spotify:track:4R2kfaDFhslZEMJqAFNpdd'}, {'album': {'album_type': 'album', 'artists': [{'external_urls': {'spotify': 'https://open.spotify.com/artist/06HL4z0CvFAxyc27GXpf02'}, 'href': 'https://api.spotify.com/v1/artists/06HL4z0CvFAxyc27GXpf02', 'id': '06HL4z0CvFAxyc27GXpf02', 'name': 'Taylor Swift', 'type': 'artist', 'uri': 'spotify:artist:06HL4z0CvFAxyc27GXpf02'}], 'external_urls': {'spotify': 'https://open.spotify.com/album/1Mo4aZ8pdj6L1jx8zSwJnt'}, 'href': 'https://api.spotify.com/v1/albums/1Mo4aZ8pdj6L1jx8zSwJnt', 'id': '1Mo4aZ8pdj6L1jx8zSwJnt', 'images': [{'url': 'https://i.scdn.co/image/ab67616d0000b2735076e4160d018e378f488c33', 'width': 640, 'height': 640}, {'url': 'https://i.scdn.co/image/ab67616d00001e025076e4160d018e378f488c33', 'width': 300, 'height': 300}, {'url': 'https://i.scdn.co/image/ab67616d000048515076e4160d018e378f488c33', 'width': 64, 'height': 64}], 'is_playable': True, 'name': 'THE TORTURED POETS DEPARTMENT', 'release_date': '2024-04-18', 'release_date_precision': 'day', 'total_tracks': 16, 'type': 'album', 'uri': 'spotify:album:1Mo4aZ8pdj6L1jx8zSwJnt'}, 'artists': [{'external_urls': {'spotify': 'https://open.spotify.com/artist/06HL4z0CvFAxyc27GXpf02'}, 'href': 'https://api.spotify.com/v1/artists/06HL4z0CvFAxyc27GXpf02', 'id': '06HL4z0CvFAxyc27GXpf02', 'name': 'Taylor Swift', 'type': 'artist', 'uri': 'spotify:artist:06HL4z0CvFAxyc27GXpf02'}], 'disc_number': 1, 'duration_ms': 254365, 'explicit': False, 'external_ids': {'isrc': 'USUG12401036'}, 'external_urls': {'spotify': 'https://open.spotify.com/track/0W0iAC1VGlB82PI6elxFYf'}, 'href': 'https://api.spotify.com/v1/tracks/0W0iAC1VGlB82PI6elxFYf', 'id': '0W0iAC1VGlB82PI6elxFYf', 'is_local': False, 'is_playable': True, 'name': 'Guilty as Sin?', 'popularity': 80, 'preview_url': None, 'track_number': 9, 'type': 'track', 'uri': 'spotify:track:0W0iAC1VGlB82PI6elxFYf'}, {'album': {'album_type': 'album', 'artists': [{'external_urls': {'spotify': 'https://open.spotify.com/artist/06HL4z0CvFAxyc27GXpf02'}, 'href': 'https://api.spotify.com/v1/artists/06HL4z0CvFAxyc27GXpf02', 'id': '06HL4z0CvFAxyc27GXpf02', 'name': 'Taylor Swift', 'type': 'artist', 'uri': 'spotify:artist:06HL4z0CvFAxyc27GXpf02'}], 'external_urls': {'spotify': 'https://open.spotify.com/album/1Mo4aZ8pdj6L1jx8zSwJnt'}, 'href': 'https://api.spotify.com/v1/albums/1Mo4aZ8pdj6L1jx8zSwJnt', 'id': '1Mo4aZ8pdj6L1jx8zSwJnt', 'images': [{'url': 'https://i.scdn.co/image/ab67616d0000b2735076e4160d018e378f488c33', 'width': 640, 'height': 640}, {'url': 'https://i.scdn.co/image/ab67616d00001e025076e4160d018e378f488c33', 'width': 300, 'height': 300}, {'url': 'https://i.scdn.co/image/ab67616d000048515076e4160d018e378f488c33', 'width': 64, 'height': 64}], 'is_playable': True, 'name': 'THE TORTURED POETS DEPARTMENT', 'release_date': '2024-04-18', 'release_date_precision': 'day', 'total_tracks': 16, 'type': 'album', 'uri': 'spotify:album:1Mo4aZ8pdj6L1jx8zSwJnt'}, 'artists': [{'external_urls': {'spotify': 'https://open.spotify.com/artist/06HL4z0CvFAxyc27GXpf02'}, 'href': 'https://api.spotify.com/v1/artists/06HL4z0CvFAxyc27GXpf02', 'id': '06HL4z0CvFAxyc27GXpf02', 'name': 'Taylor Swift', 'type': 'artist', 'uri': 'spotify:artist:06HL4z0CvFAxyc27GXpf02'}], 'disc_number': 1, 'duration_ms': 261228, 'explicit': True, 'external_ids': {'isrc': 'USUG12401031'}, 'external_urls': {'spotify': 'https://open.spotify.com/track/2F3N9tdombb64aW6VtZOdo'}, 'href': 'https://api.spotify.com/v1/tracks/2F3N9tdombb64aW6VtZOdo', 'id': '2F3N9tdombb64aW6VtZOdo', 'is_local': False, 'is_playable': True, 'name': 'Down Bad', 'popularity': 81, 'preview_url': None, 'track_number': 4, 'type': 'track', 'uri': 'spotify:track:2F3N9tdombb64aW6VtZOdo'}, {'album': {'album_type': 'album', 'artists': [{'external_urls': {'spotify': 'https://open.spotify.com/artist/06HL4z0CvFAxyc27GXpf02'}, 'href': 'https://api.spotify.com/v1/artists/06HL4z0CvFAxyc27GXpf02', 'id': '06HL4z0CvFAxyc27GXpf02', 'name': 'Taylor Swift', 'type': 'artist', 'uri': 'spotify:artist:06HL4z0CvFAxyc27GXpf02'}], 'external_urls': {'spotify': 'https://open.spotify.com/album/151w1FgRZfnKZA9FEcg9Z3'}, 'href': 'https://api.spotify.com/v1/albums/151w1FgRZfnKZA9FEcg9Z3', 'id': '151w1FgRZfnKZA9FEcg9Z3', 'images': [{'url': 'https://i.scdn.co/image/ab67616d0000b273bb54dde68cd23e2a268ae0f5', 'width': 640, 'height': 640}, {'url': 'https://i.scdn.co/image/ab67616d00001e02bb54dde68cd23e2a268ae0f5', 'width': 300, 'height': 300}, {'url': 'https://i.scdn.co/image/ab67616d00004851bb54dde68cd23e2a268ae0f5', 'width': 64, 'height': 64}], 'is_playable': True, 'name': 'Midnights', 'release_date': '2022-10-21', 'release_date_precision': 'day', 'total_tracks': 13, 'type': 'album', 'uri': 'spotify:album:151w1FgRZfnKZA9FEcg9Z3'}, 'artists': [{'external_urls': {'spotify': 'https://open.spotify.com/artist/06HL4z0CvFAxyc27GXpf02'}, 'href': 'https://api.spotify.com/v1/artists/06HL4z0CvFAxyc27GXpf02', 'id': '06HL4z0CvFAxyc27GXpf02', 'name': 'Taylor Swift', 'type': 'artist', 'uri': 'spotify:artist:06HL4z0CvFAxyc27GXpf02'}], 'disc_number': 1, 'duration_ms': 200690, 'explicit': False, 'external_ids': {'isrc': 'USUG12205736'}, 'external_urls': {'spotify': 'https://open.spotify.com/track/0V3wPSX9ygBnCm8psDIegu'}, 'href': 'https://api.spotify.com/v1/tracks/0V3wPSX9ygBnCm8psDIegu', 'id': '0V3wPSX9ygBnCm8psDIegu', 'is_local': False, 'is_playable': True, 'name': 'Anti-Hero', 'popularity': 84, 'preview_url': None, 'track_number': 3, 'type': 'track', 'uri': 'spotify:track:0V3wPSX9ygBnCm8psDIegu'}, {'album': {'album_type': 'album', 'artists': [{'external_urls': {'spotify': 'https://open.spotify.com/artist/06HL4z0CvFAxyc27GXpf02'}, 'href': 'https://api.spotify.com/v1/artists/06HL4z0CvFAxyc27GXpf02', 'id': '06HL4z0CvFAxyc27GXpf02', 'name': 'Taylor Swift', 'type': 'artist', 'uri': 'spotify:artist:06HL4z0CvFAxyc27GXpf02'}], 'external_urls': {'spotify': 'https://open.spotify.com/album/6DEjYFkNZh67HP7R9PSZvv'}, 'href': 'https://api.spotify.com/v1/albums/6DEjYFkNZh67HP7R9PSZvv', 'id': '6DEjYFkNZh67HP7R9PSZvv', 'images': [{'url': 'https://i.scdn.co/image/ab67616d0000b273da5d5aeeabacacc1263c0f4b', 'width': 640, 'height': 640}, {'url': 'https://i.scdn.co/image/ab67616d00001e02da5d5aeeabacacc1263c0f4b', 'width': 300, 'height': 300}, {'url': 'https://i.scdn.co/image/ab67616d00004851da5d5aeeabacacc1263c0f4b', 'width': 64, 'height': 64}], 'is_playable': True, 'name': 'reputation', 'release_date': '2017-11-10', 'release_date_precision': 'day', 'total_tracks': 15, 'type': 'album', 'uri': 'spotify:album:6DEjYFkNZh67HP7R9PSZvv'}, 'artists': [{'external_urls': {'spotify': 'https://open.spotify.com/artist/06HL4z0CvFAxyc27GXpf02'}, 'href': 'https://api.spotify.com/v1/artists/06HL4z0CvFAxyc27GXpf02', 'id': '06HL4z0CvFAxyc27GXpf02', 'name': 'Taylor Swift', 'type': 'artist', 'uri': 'spotify:artist:06HL4z0CvFAxyc27GXpf02'}], 'disc_number': 1, 'duration_ms': 236413, 'explicit': False, 'external_ids': {'isrc': 'USCJY1750006'}, 'external_urls': {'spotify': 'https://open.spotify.com/track/1R0a2iXumgCiFb7HEZ7gUE'}, 'href': 'https://api.spotify.com/v1/tracks/1R0a2iXumgCiFb7HEZ7gUE', 'id': '1R0a2iXumgCiFb7HEZ7gUE', 'is_local': False, 'is_playable': True, 'name': 'Don’t Blame Me', 'popularity': 85, 'preview_url': None, 'track_number': 4, 'type': 'track', 'uri': 'spotify:track:1R0a2iXumgCiFb7HEZ7gUE'}]\n"
          ]
        }
      ],
      "source": [
        "print(songs)"
      ]
    },
    {
      "cell_type": "code",
      "execution_count": null,
      "metadata": {
        "colab": {
          "base_uri": "https://localhost:8080/"
        },
        "id": "gopRPGDrEOKZ",
        "outputId": "7d5e17e5-8017-4482-ce70-80dc1ff06abe"
      },
      "outputs": [
        {
          "output_type": "stream",
          "name": "stdout",
          "text": [
            "1. Cruel Summer\n",
            "2. Fortnight (feat. Post Malone)\n",
            "3. I Can Do It With a Broken Heart\n",
            "4. august\n",
            "5. Lover\n",
            "6. cardigan\n",
            "7. Guilty as Sin?\n",
            "8. Down Bad\n",
            "9. Anti-Hero\n",
            "10. Don’t Blame Me\n"
          ]
        }
      ],
      "source": [
        "for idx, song in enumerate(songs):\n",
        "  print(f\"{idx+1}. {song['name']}\")"
      ]
    },
    {
      "cell_type": "code",
      "execution_count": null,
      "metadata": {
        "id": "m2YVfE0dGOEk"
      },
      "outputs": [],
      "source": [
        "def search_for_audiobook(token,book_name):\n",
        "  url=\"https://api.spotify.com/v1/search\"\n",
        "  header=get_auth_header()\n",
        "  query=f\"?q={book_name}&type=audiobook&limit=1\"\n",
        "  query_url=url+query\n",
        "  result=get(query_url,headers=header)\n",
        "  json_result=json.loads(result.content)\n",
        "  if len(json_result)==0:\n",
        "    return None\n",
        "  try:\n",
        "    return json_result['audiobooks']['items'][0]['description']\n",
        "  except:\n",
        "    return None"
      ]
    },
    {
      "cell_type": "code",
      "execution_count": null,
      "metadata": {
        "id": "Yl8xf2WuGa2t"
      },
      "outputs": [],
      "source": [
        "result=search_for_audiobook(token,\"The Poetry\")"
      ]
    },
    {
      "cell_type": "code",
      "execution_count": null,
      "metadata": {
        "colab": {
          "base_uri": "https://localhost:8080/"
        },
        "id": "awPjqaY1Gbvb",
        "outputId": "f4f208f6-354a-46ea-c4c9-6d7820f72c7d"
      },
      "outputs": [
        {
          "output_type": "stream",
          "name": "stdout",
          "text": [
            "Author(s): Thich Nhat Hanh\n",
            "Narrator(s): Rene Ruiz\n",
            "\n",
            "<p><b>With poetry and clarity, Thich Nhat Hanh imparts comforting wisdom about the nature of suffering and its role in creating compassion, love, and joy – all qualities of enlightenment. </b><br><br><b>“Thich Nhat Hanh shows us the connection between personal, inner peace, and peace on earth.”<b>—His Holiness the Dalai Lama</b></b><br><br>In <i>The Heart of the Buddha’s Teaching</i>, now revised with added material and new insights, Nhat Hanh introduces us to the core teachings of Buddhism and shows us that the Buddha’s teachings are accessible and applicable to our daily lives. <br><br>Covering such significant teachings as the Four Noble Truths, the Noble Eightfold Path, the Three Doors of Liberation, the Three Dharma Seals, and the Seven Factors of Awakening, <i>The Heart of the Buddha’s Teaching</i> is a radiant beacon on Buddhist thought for the initiated and uninitiated alike.<br><br><b><br></b></p>\n"
          ]
        }
      ],
      "source": [
        "print(result)"
      ]
    },
    {
      "cell_type": "code",
      "execution_count": null,
      "metadata": {
        "id": "DBIDnYqfEt-N"
      },
      "outputs": [],
      "source": [
        "def get_audiobooks(token):\n",
        "    url = \"https://api.spotify.com/v1/search\"\n",
        "    headers = {\n",
        "        \"Authorization\": \"Bearer \" + token\n",
        "    }\n",
        "\n",
        "    params = {\n",
        "        \"q\": \"audiobook\",  # Query for audiobooks\n",
        "        \"type\": \"audiobook\",\n",
        "        \"limit\": 50  # Maximum allowed by Spotify API\n",
        "    }\n",
        "\n",
        "    audiobooks = []\n",
        "\n",
        "    while True:\n",
        "        result = get(url, headers=headers, params=params)\n",
        "        if result.status_code != 200:\n",
        "            print(\"Failed to search audiobooks:\", result.status_code, result.text)\n",
        "            break\n",
        "\n",
        "        json_result = result.json()\n",
        "\n",
        "        if 'audiobooks' not in json_result:\n",
        "            print(\"'audiobooks' not found in response:\", json_result)\n",
        "            break\n",
        "\n",
        "        audiobooks.extend(item['name'] for item in json_result['audiobooks']['items'])\n",
        "\n",
        "        # Check if there are more pages\n",
        "        if 'next' in json_result['audiobooks'] and json_result['audiobooks']['next']:\n",
        "            url = json_result['audiobooks']['next']  # Use the next URL for pagination\n",
        "        else:\n",
        "            break  # No more pages\n",
        "\n",
        "    return audiobooks"
      ]
    },
    {
      "cell_type": "code",
      "source": [
        "audiobooks = get_audiobooks(token)\n",
        "print(f\"Found {len(audiobooks)} audiobooks:\")\n",
        "names=[]\n",
        "for book in audiobooks:\n",
        "  names.append(book)\n",
        "  print(book)"
      ],
      "metadata": {
        "colab": {
          "base_uri": "https://localhost:8080/"
        },
        "id": "iIuSDjLPp7tJ",
        "outputId": "ae307e07-98b3-442c-c087-1b77cec29188"
      },
      "execution_count": null,
      "outputs": [
        {
          "output_type": "stream",
          "name": "stdout",
          "text": [
            "Failed to search audiobooks: 400 {\n",
            "  \"error\" : {\n",
            "    \"status\" : 400,\n",
            "    \"message\" : \"Duplicate search query\"\n",
            "  }\n",
            "}\n",
            "Found 50 audiobooks:\n",
            "A Court of Thorns and Roses\n",
            "The King James Bible\n",
            "It Ends with Us\n",
            "The 48 Laws of Power\n",
            "The Subtle Art of Not Giving a F*ck: A Counterintuitive Approach to Living a Good Life\n",
            "Pride and Prejudice\n",
            "The Fellowship of the Ring\n",
            "Icebreaker: A Novel\n",
            "The Great Gatsby\n",
            "The Art of War\n",
            "A Game of Thrones: A Song of Ice and Fire: Book One\n",
            "I'm Glad My Mom Died\n",
            "Good Girl: A Rockstar Romance\n",
            "101 Essays That Will Change The Way You Think\n",
            "The Seven Husbands of Evelyn Hugo: A Novel\n",
            "The Alchemist\n",
            "The Pursuit of God\n",
            "The Silent Patient\n",
            "A Court of Mist and Fury\n",
            "Elon Musk\n",
            "1984\n",
            "It Starts with Us: A Novel\n",
            "The 7 Habits of Highly Effective People\n",
            "A Court of Wings and Ruin\n",
            "Happy Place\n",
            "The Hitchhiker's Guide to the Galaxy\n",
            "Funny Story\n",
            "Friends, Lovers, and the Big Terrible Thing: A Memoir\n",
            "Think Faster, Talk Smarter: How to Speak Successfully When You're Put on the Spot\n",
            "Fourth Wing\n",
            "The Killing Game (An Alexa Chase Suspense Thriller—Book 1)\n",
            "Sinner\n",
            "The Art of Small Talk: Go Shallow to go Deep\n",
            "The Song of Achilles: A Novel\n",
            "Fire & Blood (HBO Tie-in Edition): 300 Years Before A Game of Thrones\n",
            "Lessons in Chemistry: A Novel\n",
            "A Court of Silver Flames\n",
            "It\n",
            "A Court of Mist and Fury (1 of 2) [Dramatized Adaptation]: A Court of Thorns and Roses 2\n",
            "12 Rules for Life: An Antidote to Chaos\n",
            "Twisted Love\n",
            "Sociopath: A Memoir\n",
            "Twilight\n",
            "The Mountain is You: Transforming Self-Sabotage Into Self-Mastery\n",
            "Sapiens: A Brief History of Humankind\n",
            "Down with the System: A Memoir (of Sorts)\n",
            "A Court of Mist and Fury (2 of 2) [Dramatized Adaptation]: A Court of Thorns and Roses 2\n",
            "A Short History of the World\n",
            "The God of the Woods: A Novel\n",
            "1984\n"
          ]
        }
      ]
    },
    {
      "cell_type": "code",
      "source": [
        "for name in names:\n",
        "  print(name)"
      ],
      "metadata": {
        "colab": {
          "base_uri": "https://localhost:8080/"
        },
        "id": "VgtUhp3BrOHk",
        "outputId": "d43f6bc7-581f-43c6-b11d-248da89aa823"
      },
      "execution_count": null,
      "outputs": [
        {
          "output_type": "stream",
          "name": "stdout",
          "text": [
            "A Court of Thorns and Roses\n",
            "The King James Bible\n",
            "It Ends with Us\n",
            "The 48 Laws of Power\n",
            "The Subtle Art of Not Giving a F*ck: A Counterintuitive Approach to Living a Good Life\n",
            "Pride and Prejudice\n",
            "The Fellowship of the Ring\n",
            "Icebreaker: A Novel\n",
            "The Great Gatsby\n",
            "The Art of War\n",
            "A Game of Thrones: A Song of Ice and Fire: Book One\n",
            "I'm Glad My Mom Died\n",
            "Good Girl: A Rockstar Romance\n",
            "101 Essays That Will Change The Way You Think\n",
            "The Seven Husbands of Evelyn Hugo: A Novel\n",
            "The Alchemist\n",
            "The Pursuit of God\n",
            "The Silent Patient\n",
            "A Court of Mist and Fury\n",
            "Elon Musk\n",
            "1984\n",
            "It Starts with Us: A Novel\n",
            "The 7 Habits of Highly Effective People\n",
            "A Court of Wings and Ruin\n",
            "Happy Place\n",
            "The Hitchhiker's Guide to the Galaxy\n",
            "Funny Story\n",
            "Friends, Lovers, and the Big Terrible Thing: A Memoir\n",
            "Think Faster, Talk Smarter: How to Speak Successfully When You're Put on the Spot\n",
            "Fourth Wing\n",
            "The Killing Game (An Alexa Chase Suspense Thriller—Book 1)\n",
            "Sinner\n",
            "The Art of Small Talk: Go Shallow to go Deep\n",
            "The Song of Achilles: A Novel\n",
            "Fire & Blood (HBO Tie-in Edition): 300 Years Before A Game of Thrones\n",
            "Lessons in Chemistry: A Novel\n",
            "A Court of Silver Flames\n",
            "It\n",
            "A Court of Mist and Fury (1 of 2) [Dramatized Adaptation]: A Court of Thorns and Roses 2\n",
            "12 Rules for Life: An Antidote to Chaos\n",
            "Twisted Love\n",
            "Sociopath: A Memoir\n",
            "Twilight\n",
            "The Mountain is You: Transforming Self-Sabotage Into Self-Mastery\n",
            "Sapiens: A Brief History of Humankind\n",
            "Down with the System: A Memoir (of Sorts)\n",
            "A Court of Mist and Fury (2 of 2) [Dramatized Adaptation]: A Court of Thorns and Roses 2\n",
            "A Short History of the World\n",
            "The God of the Woods: A Novel\n",
            "1984\n"
          ]
        }
      ]
    },
    {
      "cell_type": "code",
      "source": [
        "def get_audiobooks(token):\n",
        "    url = \"https://api.spotify.com/v1/search\"\n",
        "    headers = {\n",
        "        \"Authorization\": \"Bearer \" + token\n",
        "    }\n",
        "\n",
        "    params = {\n",
        "        \"q\": \"audiobook\",  # Query for audiobooks\n",
        "        \"type\": \"audiobook\",\n",
        "        \"limit\": 50  # Fetch 50 audiobooks per request\n",
        "    }\n",
        "\n",
        "    audiobooks = []\n",
        "\n",
        "    while url:\n",
        "        result = get(url, headers=headers, params=params)\n",
        "        if result.status_code != 200:\n",
        "            print(\"Failed to search audiobooks:\", result.status_code, result.text)\n",
        "            break\n",
        "\n",
        "        json_result = result.json()\n",
        "\n",
        "        if 'audiobooks' not in json_result:\n",
        "            print(\"'audiobooks' not found in response:\", json_result)\n",
        "            break\n",
        "\n",
        "        audiobooks.extend(item['name'] for item in json_result['audiobooks']['items'])\n",
        "\n",
        "        # Get the next URL for pagination\n",
        "        url = json_result['audiobooks']['next']  # This will be None if there are no more pages\n",
        "        params = None  # Clear params for subsequent requests since URL already contains them\n",
        "\n",
        "    return audiobooks"
      ],
      "metadata": {
        "id": "2RbegJx_rqmY"
      },
      "execution_count": null,
      "outputs": []
    },
    {
      "cell_type": "code",
      "source": [
        "audiobooks=get_audiobooks(token)"
      ],
      "metadata": {
        "id": "CiPXbuCnsYXs"
      },
      "execution_count": null,
      "outputs": []
    },
    {
      "cell_type": "code",
      "source": [
        "len(audiobooks)"
      ],
      "metadata": {
        "colab": {
          "base_uri": "https://localhost:8080/"
        },
        "id": "ycbtIwC7sn6o",
        "outputId": "525cd372-f5ea-4ff9-ca59-a69cb21a1c3d"
      },
      "execution_count": null,
      "outputs": [
        {
          "output_type": "execute_result",
          "data": {
            "text/plain": [
              "1000"
            ]
          },
          "metadata": {},
          "execution_count": 42
        }
      ]
    },
    {
      "cell_type": "code",
      "source": [
        "# for book in audiobooks:\n",
        "#   print(type(book))\n",
        "#   print(book)"
      ],
      "metadata": {
        "id": "A8bgHi6YseAI"
      },
      "execution_count": null,
      "outputs": []
    },
    {
      "cell_type": "code",
      "source": [
        "audiobook_dict={}\n",
        "for book in audiobooks:\n",
        "  result=search_for_audiobook(token,book)\n",
        "  audiobook_dict[book]=result"
      ],
      "metadata": {
        "id": "qRZiWST0sihg"
      },
      "execution_count": null,
      "outputs": []
    },
    {
      "cell_type": "code",
      "source": [
        "len(audiobook_dict)"
      ],
      "metadata": {
        "colab": {
          "base_uri": "https://localhost:8080/"
        },
        "id": "q-hiLsFQtsQr",
        "outputId": "d76a34ce-902d-4e01-b6b7-08478b41747a"
      },
      "execution_count": null,
      "outputs": [
        {
          "output_type": "execute_result",
          "data": {
            "text/plain": [
              "924"
            ]
          },
          "metadata": {},
          "execution_count": 67
        }
      ]
    },
    {
      "cell_type": "code",
      "source": [
        "# audiobook_dict"
      ],
      "metadata": {
        "id": "mgWx8hEMufVJ"
      },
      "execution_count": null,
      "outputs": []
    },
    {
      "cell_type": "code",
      "source": [
        "import pandas as pd"
      ],
      "metadata": {
        "id": "W_Azc4S8wCrE"
      },
      "execution_count": null,
      "outputs": []
    },
    {
      "cell_type": "code",
      "source": [
        "audiobooks_df = pd.DataFrame.from_dict(audiobook_dict, orient='index', columns=['Description'])\n",
        "\n",
        "audiobooks_df.reset_index(inplace=True)\n",
        "\n",
        "audiobooks_df.rename(columns={'index': 'Audiobook Name'}, inplace=True)\n",
        "\n",
        "print(audiobooks_df)"
      ],
      "metadata": {
        "colab": {
          "base_uri": "https://localhost:8080/"
        },
        "id": "GUW55aAcwT7H",
        "outputId": "6d35f650-cb0b-4e9f-bc1b-173f62a32a09"
      },
      "execution_count": null,
      "outputs": [
        {
          "output_type": "stream",
          "name": "stdout",
          "text": [
            "                                        Audiobook Name  \\\n",
            "0                          A Court of Thorns and Roses   \n",
            "1                                 The King James Bible   \n",
            "2                                      It Ends with Us   \n",
            "3                                 The 48 Laws of Power   \n",
            "4    The Subtle Art of Not Giving a F*ck: A Counter...   \n",
            "..                                                 ...   \n",
            "919              America Falls Collection 1: Books 1-6   \n",
            "920                                       Black Beauty   \n",
            "921                                A Child Called \"It\"   \n",
            "922                    Iron: Essential Element of Life   \n",
            "923                            Real Americans: A novel   \n",
            "\n",
            "                                           Description  \n",
            "0    Author(s): Sarah J. Maas\\nNarrator(s): Jennife...  \n",
            "1    Author(s): Uncredited\\nNarrator(s): George Vaf...  \n",
            "2    Author(s): Colleen Hoover\\nNarrator(s): Olivia...  \n",
            "3    Author(s): Robert Greene\\nNarrator(s): Richard...  \n",
            "4    Author(s): Improvement Audio\\nNarrator(s): Imp...  \n",
            "..                                                 ...  \n",
            "919  Author(s): Scott Medbury\\nNarrator(s): Adam Ba...  \n",
            "920  Author(s): Anna Sewell\\nNarrator(s): Avi Roque...  \n",
            "921  Author(s): Dave Pelzer\\nNarrator(s): Brian Kee...  \n",
            "922  Author(s): George R. R. Martin\\nNarrator(s): S...  \n",
            "923  Author(s): Rachel Khong\\nNarrator(s): Louisa Z...  \n",
            "\n",
            "[924 rows x 2 columns]\n"
          ]
        }
      ]
    },
    {
      "cell_type": "code",
      "source": [
        "audiobooks_df = pd.DataFrame(list(audiobook_dict.items()), columns=['Audiobook Name', 'Description'])"
      ],
      "metadata": {
        "id": "7HPq-SxPwy4X"
      },
      "execution_count": null,
      "outputs": []
    },
    {
      "cell_type": "code",
      "source": [
        "audiobooks_df"
      ],
      "metadata": {
        "colab": {
          "base_uri": "https://localhost:8080/",
          "height": 424
        },
        "id": "VKs4yTKv28Gq",
        "outputId": "b45745ec-4503-4b88-996b-e87f64587c2b"
      },
      "execution_count": null,
      "outputs": [
        {
          "output_type": "execute_result",
          "data": {
            "text/plain": [
              "                                        Audiobook Name  \\\n",
              "0                          A Court of Thorns and Roses   \n",
              "1                                 The King James Bible   \n",
              "2                                      It Ends with Us   \n",
              "3                                 The 48 Laws of Power   \n",
              "4    The Subtle Art of Not Giving a F*ck: A Counter...   \n",
              "..                                                 ...   \n",
              "919              America Falls Collection 1: Books 1-6   \n",
              "920                                       Black Beauty   \n",
              "921                                A Child Called \"It\"   \n",
              "922                    Iron: Essential Element of Life   \n",
              "923                            Real Americans: A novel   \n",
              "\n",
              "                                           Description  \n",
              "0    Author(s): Sarah J. Maas\\nNarrator(s): Jennife...  \n",
              "1    Author(s): Uncredited\\nNarrator(s): George Vaf...  \n",
              "2    Author(s): Colleen Hoover\\nNarrator(s): Olivia...  \n",
              "3    Author(s): Robert Greene\\nNarrator(s): Richard...  \n",
              "4    Author(s): Improvement Audio\\nNarrator(s): Imp...  \n",
              "..                                                 ...  \n",
              "919  Author(s): Scott Medbury\\nNarrator(s): Adam Ba...  \n",
              "920  Author(s): Anna Sewell\\nNarrator(s): Avi Roque...  \n",
              "921  Author(s): Dave Pelzer\\nNarrator(s): Brian Kee...  \n",
              "922  Author(s): George R. R. Martin\\nNarrator(s): S...  \n",
              "923  Author(s): Rachel Khong\\nNarrator(s): Louisa Z...  \n",
              "\n",
              "[924 rows x 2 columns]"
            ],
            "text/html": [
              "\n",
              "  <div id=\"df-168b6c7f-8486-4eb9-abb5-1006a407ac14\" class=\"colab-df-container\">\n",
              "    <div>\n",
              "<style scoped>\n",
              "    .dataframe tbody tr th:only-of-type {\n",
              "        vertical-align: middle;\n",
              "    }\n",
              "\n",
              "    .dataframe tbody tr th {\n",
              "        vertical-align: top;\n",
              "    }\n",
              "\n",
              "    .dataframe thead th {\n",
              "        text-align: right;\n",
              "    }\n",
              "</style>\n",
              "<table border=\"1\" class=\"dataframe\">\n",
              "  <thead>\n",
              "    <tr style=\"text-align: right;\">\n",
              "      <th></th>\n",
              "      <th>Audiobook Name</th>\n",
              "      <th>Description</th>\n",
              "    </tr>\n",
              "  </thead>\n",
              "  <tbody>\n",
              "    <tr>\n",
              "      <th>0</th>\n",
              "      <td>A Court of Thorns and Roses</td>\n",
              "      <td>Author(s): Sarah J. Maas\\nNarrator(s): Jennife...</td>\n",
              "    </tr>\n",
              "    <tr>\n",
              "      <th>1</th>\n",
              "      <td>The King James Bible</td>\n",
              "      <td>Author(s): Uncredited\\nNarrator(s): George Vaf...</td>\n",
              "    </tr>\n",
              "    <tr>\n",
              "      <th>2</th>\n",
              "      <td>It Ends with Us</td>\n",
              "      <td>Author(s): Colleen Hoover\\nNarrator(s): Olivia...</td>\n",
              "    </tr>\n",
              "    <tr>\n",
              "      <th>3</th>\n",
              "      <td>The 48 Laws of Power</td>\n",
              "      <td>Author(s): Robert Greene\\nNarrator(s): Richard...</td>\n",
              "    </tr>\n",
              "    <tr>\n",
              "      <th>4</th>\n",
              "      <td>The Subtle Art of Not Giving a F*ck: A Counter...</td>\n",
              "      <td>Author(s): Improvement Audio\\nNarrator(s): Imp...</td>\n",
              "    </tr>\n",
              "    <tr>\n",
              "      <th>...</th>\n",
              "      <td>...</td>\n",
              "      <td>...</td>\n",
              "    </tr>\n",
              "    <tr>\n",
              "      <th>919</th>\n",
              "      <td>America Falls Collection 1: Books 1-6</td>\n",
              "      <td>Author(s): Scott Medbury\\nNarrator(s): Adam Ba...</td>\n",
              "    </tr>\n",
              "    <tr>\n",
              "      <th>920</th>\n",
              "      <td>Black Beauty</td>\n",
              "      <td>Author(s): Anna Sewell\\nNarrator(s): Avi Roque...</td>\n",
              "    </tr>\n",
              "    <tr>\n",
              "      <th>921</th>\n",
              "      <td>A Child Called \"It\"</td>\n",
              "      <td>Author(s): Dave Pelzer\\nNarrator(s): Brian Kee...</td>\n",
              "    </tr>\n",
              "    <tr>\n",
              "      <th>922</th>\n",
              "      <td>Iron: Essential Element of Life</td>\n",
              "      <td>Author(s): George R. R. Martin\\nNarrator(s): S...</td>\n",
              "    </tr>\n",
              "    <tr>\n",
              "      <th>923</th>\n",
              "      <td>Real Americans: A novel</td>\n",
              "      <td>Author(s): Rachel Khong\\nNarrator(s): Louisa Z...</td>\n",
              "    </tr>\n",
              "  </tbody>\n",
              "</table>\n",
              "<p>924 rows × 2 columns</p>\n",
              "</div>\n",
              "    <div class=\"colab-df-buttons\">\n",
              "\n",
              "  <div class=\"colab-df-container\">\n",
              "    <button class=\"colab-df-convert\" onclick=\"convertToInteractive('df-168b6c7f-8486-4eb9-abb5-1006a407ac14')\"\n",
              "            title=\"Convert this dataframe to an interactive table.\"\n",
              "            style=\"display:none;\">\n",
              "\n",
              "  <svg xmlns=\"http://www.w3.org/2000/svg\" height=\"24px\" viewBox=\"0 -960 960 960\">\n",
              "    <path d=\"M120-120v-720h720v720H120Zm60-500h600v-160H180v160Zm220 220h160v-160H400v160Zm0 220h160v-160H400v160ZM180-400h160v-160H180v160Zm440 0h160v-160H620v160ZM180-180h160v-160H180v160Zm440 0h160v-160H620v160Z\"/>\n",
              "  </svg>\n",
              "    </button>\n",
              "\n",
              "  <style>\n",
              "    .colab-df-container {\n",
              "      display:flex;\n",
              "      gap: 12px;\n",
              "    }\n",
              "\n",
              "    .colab-df-convert {\n",
              "      background-color: #E8F0FE;\n",
              "      border: none;\n",
              "      border-radius: 50%;\n",
              "      cursor: pointer;\n",
              "      display: none;\n",
              "      fill: #1967D2;\n",
              "      height: 32px;\n",
              "      padding: 0 0 0 0;\n",
              "      width: 32px;\n",
              "    }\n",
              "\n",
              "    .colab-df-convert:hover {\n",
              "      background-color: #E2EBFA;\n",
              "      box-shadow: 0px 1px 2px rgba(60, 64, 67, 0.3), 0px 1px 3px 1px rgba(60, 64, 67, 0.15);\n",
              "      fill: #174EA6;\n",
              "    }\n",
              "\n",
              "    .colab-df-buttons div {\n",
              "      margin-bottom: 4px;\n",
              "    }\n",
              "\n",
              "    [theme=dark] .colab-df-convert {\n",
              "      background-color: #3B4455;\n",
              "      fill: #D2E3FC;\n",
              "    }\n",
              "\n",
              "    [theme=dark] .colab-df-convert:hover {\n",
              "      background-color: #434B5C;\n",
              "      box-shadow: 0px 1px 3px 1px rgba(0, 0, 0, 0.15);\n",
              "      filter: drop-shadow(0px 1px 2px rgba(0, 0, 0, 0.3));\n",
              "      fill: #FFFFFF;\n",
              "    }\n",
              "  </style>\n",
              "\n",
              "    <script>\n",
              "      const buttonEl =\n",
              "        document.querySelector('#df-168b6c7f-8486-4eb9-abb5-1006a407ac14 button.colab-df-convert');\n",
              "      buttonEl.style.display =\n",
              "        google.colab.kernel.accessAllowed ? 'block' : 'none';\n",
              "\n",
              "      async function convertToInteractive(key) {\n",
              "        const element = document.querySelector('#df-168b6c7f-8486-4eb9-abb5-1006a407ac14');\n",
              "        const dataTable =\n",
              "          await google.colab.kernel.invokeFunction('convertToInteractive',\n",
              "                                                    [key], {});\n",
              "        if (!dataTable) return;\n",
              "\n",
              "        const docLinkHtml = 'Like what you see? Visit the ' +\n",
              "          '<a target=\"_blank\" href=https://colab.research.google.com/notebooks/data_table.ipynb>data table notebook</a>'\n",
              "          + ' to learn more about interactive tables.';\n",
              "        element.innerHTML = '';\n",
              "        dataTable['output_type'] = 'display_data';\n",
              "        await google.colab.output.renderOutput(dataTable, element);\n",
              "        const docLink = document.createElement('div');\n",
              "        docLink.innerHTML = docLinkHtml;\n",
              "        element.appendChild(docLink);\n",
              "      }\n",
              "    </script>\n",
              "  </div>\n",
              "\n",
              "\n",
              "<div id=\"df-3b053e03-567c-4766-aebd-3060760c6fc7\">\n",
              "  <button class=\"colab-df-quickchart\" onclick=\"quickchart('df-3b053e03-567c-4766-aebd-3060760c6fc7')\"\n",
              "            title=\"Suggest charts\"\n",
              "            style=\"display:none;\">\n",
              "\n",
              "<svg xmlns=\"http://www.w3.org/2000/svg\" height=\"24px\"viewBox=\"0 0 24 24\"\n",
              "     width=\"24px\">\n",
              "    <g>\n",
              "        <path d=\"M19 3H5c-1.1 0-2 .9-2 2v14c0 1.1.9 2 2 2h14c1.1 0 2-.9 2-2V5c0-1.1-.9-2-2-2zM9 17H7v-7h2v7zm4 0h-2V7h2v10zm4 0h-2v-4h2v4z\"/>\n",
              "    </g>\n",
              "</svg>\n",
              "  </button>\n",
              "\n",
              "<style>\n",
              "  .colab-df-quickchart {\n",
              "      --bg-color: #E8F0FE;\n",
              "      --fill-color: #1967D2;\n",
              "      --hover-bg-color: #E2EBFA;\n",
              "      --hover-fill-color: #174EA6;\n",
              "      --disabled-fill-color: #AAA;\n",
              "      --disabled-bg-color: #DDD;\n",
              "  }\n",
              "\n",
              "  [theme=dark] .colab-df-quickchart {\n",
              "      --bg-color: #3B4455;\n",
              "      --fill-color: #D2E3FC;\n",
              "      --hover-bg-color: #434B5C;\n",
              "      --hover-fill-color: #FFFFFF;\n",
              "      --disabled-bg-color: #3B4455;\n",
              "      --disabled-fill-color: #666;\n",
              "  }\n",
              "\n",
              "  .colab-df-quickchart {\n",
              "    background-color: var(--bg-color);\n",
              "    border: none;\n",
              "    border-radius: 50%;\n",
              "    cursor: pointer;\n",
              "    display: none;\n",
              "    fill: var(--fill-color);\n",
              "    height: 32px;\n",
              "    padding: 0;\n",
              "    width: 32px;\n",
              "  }\n",
              "\n",
              "  .colab-df-quickchart:hover {\n",
              "    background-color: var(--hover-bg-color);\n",
              "    box-shadow: 0 1px 2px rgba(60, 64, 67, 0.3), 0 1px 3px 1px rgba(60, 64, 67, 0.15);\n",
              "    fill: var(--button-hover-fill-color);\n",
              "  }\n",
              "\n",
              "  .colab-df-quickchart-complete:disabled,\n",
              "  .colab-df-quickchart-complete:disabled:hover {\n",
              "    background-color: var(--disabled-bg-color);\n",
              "    fill: var(--disabled-fill-color);\n",
              "    box-shadow: none;\n",
              "  }\n",
              "\n",
              "  .colab-df-spinner {\n",
              "    border: 2px solid var(--fill-color);\n",
              "    border-color: transparent;\n",
              "    border-bottom-color: var(--fill-color);\n",
              "    animation:\n",
              "      spin 1s steps(1) infinite;\n",
              "  }\n",
              "\n",
              "  @keyframes spin {\n",
              "    0% {\n",
              "      border-color: transparent;\n",
              "      border-bottom-color: var(--fill-color);\n",
              "      border-left-color: var(--fill-color);\n",
              "    }\n",
              "    20% {\n",
              "      border-color: transparent;\n",
              "      border-left-color: var(--fill-color);\n",
              "      border-top-color: var(--fill-color);\n",
              "    }\n",
              "    30% {\n",
              "      border-color: transparent;\n",
              "      border-left-color: var(--fill-color);\n",
              "      border-top-color: var(--fill-color);\n",
              "      border-right-color: var(--fill-color);\n",
              "    }\n",
              "    40% {\n",
              "      border-color: transparent;\n",
              "      border-right-color: var(--fill-color);\n",
              "      border-top-color: var(--fill-color);\n",
              "    }\n",
              "    60% {\n",
              "      border-color: transparent;\n",
              "      border-right-color: var(--fill-color);\n",
              "    }\n",
              "    80% {\n",
              "      border-color: transparent;\n",
              "      border-right-color: var(--fill-color);\n",
              "      border-bottom-color: var(--fill-color);\n",
              "    }\n",
              "    90% {\n",
              "      border-color: transparent;\n",
              "      border-bottom-color: var(--fill-color);\n",
              "    }\n",
              "  }\n",
              "</style>\n",
              "\n",
              "  <script>\n",
              "    async function quickchart(key) {\n",
              "      const quickchartButtonEl =\n",
              "        document.querySelector('#' + key + ' button');\n",
              "      quickchartButtonEl.disabled = true;  // To prevent multiple clicks.\n",
              "      quickchartButtonEl.classList.add('colab-df-spinner');\n",
              "      try {\n",
              "        const charts = await google.colab.kernel.invokeFunction(\n",
              "            'suggestCharts', [key], {});\n",
              "      } catch (error) {\n",
              "        console.error('Error during call to suggestCharts:', error);\n",
              "      }\n",
              "      quickchartButtonEl.classList.remove('colab-df-spinner');\n",
              "      quickchartButtonEl.classList.add('colab-df-quickchart-complete');\n",
              "    }\n",
              "    (() => {\n",
              "      let quickchartButtonEl =\n",
              "        document.querySelector('#df-3b053e03-567c-4766-aebd-3060760c6fc7 button');\n",
              "      quickchartButtonEl.style.display =\n",
              "        google.colab.kernel.accessAllowed ? 'block' : 'none';\n",
              "    })();\n",
              "  </script>\n",
              "</div>\n",
              "\n",
              "  <div id=\"id_3d833541-9f4f-4a7a-9fec-bf43546f219b\">\n",
              "    <style>\n",
              "      .colab-df-generate {\n",
              "        background-color: #E8F0FE;\n",
              "        border: none;\n",
              "        border-radius: 50%;\n",
              "        cursor: pointer;\n",
              "        display: none;\n",
              "        fill: #1967D2;\n",
              "        height: 32px;\n",
              "        padding: 0 0 0 0;\n",
              "        width: 32px;\n",
              "      }\n",
              "\n",
              "      .colab-df-generate:hover {\n",
              "        background-color: #E2EBFA;\n",
              "        box-shadow: 0px 1px 2px rgba(60, 64, 67, 0.3), 0px 1px 3px 1px rgba(60, 64, 67, 0.15);\n",
              "        fill: #174EA6;\n",
              "      }\n",
              "\n",
              "      [theme=dark] .colab-df-generate {\n",
              "        background-color: #3B4455;\n",
              "        fill: #D2E3FC;\n",
              "      }\n",
              "\n",
              "      [theme=dark] .colab-df-generate:hover {\n",
              "        background-color: #434B5C;\n",
              "        box-shadow: 0px 1px 3px 1px rgba(0, 0, 0, 0.15);\n",
              "        filter: drop-shadow(0px 1px 2px rgba(0, 0, 0, 0.3));\n",
              "        fill: #FFFFFF;\n",
              "      }\n",
              "    </style>\n",
              "    <button class=\"colab-df-generate\" onclick=\"generateWithVariable('audiobooks_df')\"\n",
              "            title=\"Generate code using this dataframe.\"\n",
              "            style=\"display:none;\">\n",
              "\n",
              "  <svg xmlns=\"http://www.w3.org/2000/svg\" height=\"24px\"viewBox=\"0 0 24 24\"\n",
              "       width=\"24px\">\n",
              "    <path d=\"M7,19H8.4L18.45,9,17,7.55,7,17.6ZM5,21V16.75L18.45,3.32a2,2,0,0,1,2.83,0l1.4,1.43a1.91,1.91,0,0,1,.58,1.4,1.91,1.91,0,0,1-.58,1.4L9.25,21ZM18.45,9,17,7.55Zm-12,3A5.31,5.31,0,0,0,4.9,8.1,5.31,5.31,0,0,0,1,6.5,5.31,5.31,0,0,0,4.9,4.9,5.31,5.31,0,0,0,6.5,1,5.31,5.31,0,0,0,8.1,4.9,5.31,5.31,0,0,0,12,6.5,5.46,5.46,0,0,0,6.5,12Z\"/>\n",
              "  </svg>\n",
              "    </button>\n",
              "    <script>\n",
              "      (() => {\n",
              "      const buttonEl =\n",
              "        document.querySelector('#id_3d833541-9f4f-4a7a-9fec-bf43546f219b button.colab-df-generate');\n",
              "      buttonEl.style.display =\n",
              "        google.colab.kernel.accessAllowed ? 'block' : 'none';\n",
              "\n",
              "      buttonEl.onclick = () => {\n",
              "        google.colab.notebook.generateWithVariable('audiobooks_df');\n",
              "      }\n",
              "      })();\n",
              "    </script>\n",
              "  </div>\n",
              "\n",
              "    </div>\n",
              "  </div>\n"
            ],
            "application/vnd.google.colaboratory.intrinsic+json": {
              "type": "dataframe",
              "variable_name": "audiobooks_df",
              "summary": "{\n  \"name\": \"audiobooks_df\",\n  \"rows\": 924,\n  \"fields\": [\n    {\n      \"column\": \"Audiobook Name\",\n      \"properties\": {\n        \"dtype\": \"string\",\n        \"num_unique_values\": 924,\n        \"samples\": [\n          \"Chip War: The Quest to Dominate the World's Most Critical Technology\",\n          \"Twisted : Twisted Love - Tome 01\",\n          \"The Killing Game (An Alexa Chase Suspense Thriller\\u2014Book 1)\"\n        ],\n        \"semantic_type\": \"\",\n        \"description\": \"\"\n      }\n    },\n    {\n      \"column\": \"Description\",\n      \"properties\": {\n        \"dtype\": \"string\",\n        \"num_unique_values\": 822,\n        \"samples\": [\n          \"Author(s): Stephen E. Ambrose\\nNarrator(s): Tim Jerome\\n\\n<b>Stephen E. Ambrose\\u2019s classic <i>New York Times </i>bestseller and inspiration for the acclaimed HBO series about Easy Company, the ordinary men who became the World War II\\u2019s most extraordinary soldiers at the frontlines of the war's most critical moments. Featuring a foreword from Tom Hanks.</b><br><br>They came together, citizen soldiers, in the summer of 1942, drawn to Airborne by the $50 monthly bonus and a desire to be better than the other guy. And at its peak\\u2014in Holland and the Ardennes\\u2014Easy Company was as good a rifle company as any in the world.<br><br>From the rigorous training in Georgia in 1942 to the disbanding in 1945, Stephen E. Ambrose tells the story of this remarkable company. In combat, the reward for a job well done is the next tough assignment, and as they advanced through Europe, the men of Easy kept getting the tough assignments.<br><br>They parachuted into France early D-Day morning and knocked out a battery of four 105 mm cannon looking down Utah Beach; they parachuted into Holland during the Arnhem campaign; they were the Battered Bastards of the Bastion of Bastogne, brought in to hold the line, although surrounded, in the Battle of the Bulge; and then they spearheaded the counteroffensive. Finally, they captured Hitler's Bavarian outpost, his Eagle's Nest at Berchtesgaden.<br><br>They were rough-and-ready guys, battered by the Depression, mistrustful and suspicious. They drank too much French wine, looted too many German cameras and watches, and fought too often with other GIs. But in training and combat they learned selflessness and found the closest brotherhood they ever knew. They discovered that in war, men who loved life would give their lives for them. <br><br>This is the story of the men who fought, of the martinet they hated who trained them well, and of the captain they loved who led them. E Company was a company of men who went hungry, froze, and died for each other, a company that took 150 percent casualties, a company where the Purple Heart was not a medal\\u2014it was a badge of office.\",\n          \"Author(s): Bruce Dickinson\\nNarrator(s): Bruce Dickinson\\n\\n<p>A long-awaited memoir from the larger-than-life, multifaceted lead vocalist of Iron Maiden, one of the most successful, influential and enduring rock bands ever.</p><p>Pioneers of Britain\\u2019s nascent Rock & Metal scene back in the late 1970s, Iron Maiden smashed its way to the top, thanks in no small part to the high-octane performances, operatic singing style, and stage presence of its second, but twice-longest-serving, lead singer, Bruce Dickinson. As Iron Maiden\\u2019s front man\\u2014first from 1981 to 1993, and then from 1999 to the present\\u2014Dickinson has been, and remains, a man of legend.</p><p>But OTT front man is just one of the many hats Bruce wears. In addition to being one of the world\\u2019s most storied and well-respected singers and songwriters, he is an airline captain, aviation entrepreneur, motivational speaker, beer brewer, novelist, radio presenter, and film scriptwriter. He has also competed as a world-class level fencer. Often credited as a genuine polymath Bruce, in his own words (and handwritten script in the first instance!), sets forth many personal observations guaranteed to inspire curious souls and hard-core fans alike. </p><p>Dickinson turns his unbridled creativity, passion, and anarchic humour to reveal some fascinating stories from his life, including his thirty years with Maiden, his solo career, his childhood within the eccentric British school system, his early bands, fatherhood and family, and his recent battle with cancer. </p><p>Bold, honest, intelligent and very funny,\\u00a0his memoir\\u00a0is an up-close look inside the life, heart, and mind of one of the most unique and interesting men in the world; a true icon of rock.</p>\",\n          \"Author(s): Fiona Grace\\nNarrator(s): Jeanie Black\\n\\nIn a new romantic comedy series by #1 Bestseller Fiona Grace, Ariel Hawthorne\\u2019s perfect life is upended when she finds her boyfriend cheating and loses her job on the same day. With her teenage daughter also at a crossroads, Ariel decides it\\u2019s time to ditch Miami life and move to a small town in coastal Maine and start life again. Determined to restore her missing father\\u2019s historic house into a B&B, she has no idea what\\u2019s in store\\u2014or that a better life, and a new love, might be awaiting her.<br><br>\\u201cWow, this book takes off & never stops! I couldn't put it down! Highly recommended for those who love a great mystery with twists, turns, romance, and a long lost family member! I am reading the next book right now!\\u201d<br>--Amazon reviewer (regarding Murder in the Manor)<br>\\u2b50\\u2b50\\u2b50\\u2b50\\u2b50<br> <br>\\u201cWish all books were this good a mystery romance and love. Did not want to stop reading this book\\u2014loved it.\\u201d<br>--Amazon reviewer (regarding Murder in the Manor)<br>\\u2b50\\u2b50\\u2b50\\u2b50\\u2b50<br><br>ALWAYS, WITH YOU is book #1 in a new series by #1 bestselling author Fiona Grace, whose books have received over 10,000 five-star reviews and ratings. <br><br>A charming sweet romance series will transport you to another world, the ENDLESS HARBOR series will make you laugh, make you cry, will keep you turning pages late into the night\\u2014and will make you fall in love with romance all over again. A page-turner packed with jaw-dropping twists, it is impossible to put down!<br><br>Future books in the series are also available.<br><br>\\u201cThe story line wasn't just a who done it, but had a story about her life and romance, including village life. Very entertaining.\\u201d<br>--Amazon reviewer (regarding Murder in the Manor)<br>\\u2b50\\u2b50\\u2b50\\u2b50\\u2b50<br><br> \\u201cIt has endearing and sometimes quirky characters, a plot that keeps you reading and the right amount of romance. I can\\u2019t wait to start book two!\\u201d<br>--Amazon reviewer (regarding Murder in the Manor)<br>\\u2b50\\u2b50\\u2b50\\u2b50\\u2b50<br><br>\\u201cWhat a great story of murder, romance, new beginnings, love, friend ships and a wonderful cascade of mystery.\\u201d<br>--Amazon reviewer (regarding Murder in the Manor)<br>\\u2b50\\u2b50\\u2b50\\u2b50\\u2b50\"\n        ],\n        \"semantic_type\": \"\",\n        \"description\": \"\"\n      }\n    }\n  ]\n}"
            }
          },
          "metadata": {},
          "execution_count": 70
        }
      ]
    },
    {
      "cell_type": "code",
      "source": [
        "audiobooks_df.to_csv(\"audiobooks.csv\")"
      ],
      "metadata": {
        "id": "kgM3lLG_29ej"
      },
      "execution_count": null,
      "outputs": []
    },
    {
      "cell_type": "code",
      "source": [],
      "metadata": {
        "id": "9t24QGst3Odl"
      },
      "execution_count": null,
      "outputs": []
    }
  ],
  "metadata": {
    "colab": {
      "provenance": [],
      "authorship_tag": "ABX9TyNxqR+E9ILUtmmAsgMhQzSv",
      "include_colab_link": true
    },
    "kernelspec": {
      "display_name": "Python 3",
      "name": "python3"
    },
    "language_info": {
      "name": "python"
    }
  },
  "nbformat": 4,
  "nbformat_minor": 0
}